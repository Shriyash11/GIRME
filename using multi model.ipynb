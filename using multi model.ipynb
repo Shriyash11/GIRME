{
  "nbformat": 4,
  "nbformat_minor": 0,
  "metadata": {
    "colab": {
      "provenance": [],
      "authorship_tag": "ABX9TyMWrczudM0ZVYaRR9oJ/u80",
      "include_colab_link": true
    },
    "kernelspec": {
      "name": "python3",
      "display_name": "Python 3"
    },
    "language_info": {
      "name": "python"
    }
  },
  "cells": [
    {
      "cell_type": "markdown",
      "metadata": {
        "id": "view-in-github",
        "colab_type": "text"
      },
      "source": [
        "<a href=\"https://colab.research.google.com/github/Shriyash11/GIRME/blob/main/using%20multi%20model.ipynb\" target=\"_parent\"><img src=\"https://colab.research.google.com/assets/colab-badge.svg\" alt=\"Open In Colab\"/></a>"
      ]
    },
    {
      "cell_type": "code",
      "execution_count": null,
      "metadata": {
        "id": "KBgyYQ3IkHQQ"
      },
      "outputs": [],
      "source": [
        "import pandas as pd\n",
        "from sklearn.model_selection import train_test_split\n",
        "from sklearn.preprocessing import StandardScaler, LabelEncoder"
      ]
    },
    {
      "cell_type": "code",
      "source": [
        "# Step 1: Data Collection\n",
        "# Load the dataset\n",
        "file_path = \"/content/mmds.csv\"  # Replace with the actual path to your CSV file\n",
        "df = pd.read_csv(file_path)"
      ],
      "metadata": {
        "id": "FHQEbASBkVh6"
      },
      "execution_count": null,
      "outputs": []
    },
    {
      "cell_type": "code",
      "source": [
        "# Display the first few rows of the dataset\n",
        "print(\"Original Dataset:\")\n",
        "print(df.head())"
      ],
      "metadata": {
        "colab": {
          "base_uri": "https://localhost:8080/"
        },
        "id": "X5n4U7r1ka0E",
        "outputId": "2f5f6d94-c247-4cde-de7f-b325a792c036"
      },
      "execution_count": null,
      "outputs": [
        {
          "output_type": "stream",
          "name": "stdout",
          "text": [
            "Original Dataset:\n",
            "   CustomerID  Income   Debt PaymentHistory  CreditScore\n",
            "0          18   50000  10000           Good          700\n",
            "1          65   60000   8000      Excellent          750\n",
            "2          46   75000  12000           Poor          600\n",
            "3          37   45000  15000           Good          680\n",
            "4          36   80000   5000      Excellent          780\n"
          ]
        }
      ]
    },
    {
      "cell_type": "code",
      "source": [
        "# Step 2: Data Preparation\n",
        "# Identify features and target variable\n",
        "features = df.drop(columns=['CustomerID', 'CreditScore'])\n",
        "target = df['CreditScore']"
      ],
      "metadata": {
        "id": "fnG0Y2Q7kdtF"
      },
      "execution_count": null,
      "outputs": []
    },
    {
      "cell_type": "code",
      "source": [
        "# Handle categorical variables (PaymentHistory)\n",
        "label_encoder = LabelEncoder()\n",
        "features['PaymentHistory'] = label_encoder.fit_transform(features['PaymentHistory'])\n"
      ],
      "metadata": {
        "id": "iKNEz6pFkjZV"
      },
      "execution_count": null,
      "outputs": []
    },
    {
      "cell_type": "code",
      "source": [],
      "metadata": {
        "id": "m088AFnLb3US"
      },
      "execution_count": null,
      "outputs": []
    },
    {
      "cell_type": "code",
      "source": [
        "# Split the data into training and testing sets\n",
        "X_train, X_test, y_train, y_test = train_test_split(features, target, test_size=0.2, random_state=42)"
      ],
      "metadata": {
        "id": "6iPTYWDCluik"
      },
      "execution_count": null,
      "outputs": []
    },
    {
      "cell_type": "code",
      "source": [
        "# Standardize numerical features\n",
        "scaler = StandardScaler()\n",
        "X_train_scaled = scaler.fit_transform(X_train)\n",
        "X_test_scaled = scaler.transform(X_test)"
      ],
      "metadata": {
        "id": "Y1qX7rLSlyAq"
      },
      "execution_count": null,
      "outputs": []
    },
    {
      "cell_type": "code",
      "source": [
        "# Display the processed data\n",
        "print(\"\\nProcessed Data:\")\n",
        "print(\"X_train_scaled:\")\n",
        "print(X_train_scaled[:5])  # Display the first 5 rows for demonstration\n",
        "print(\"\\nX_test_scaled:\")\n",
        "print(X_test_scaled[:5])   # Display the first 5 rows for demonstration\n",
        "print(\"\\ny_train:\")\n",
        "print(y_train.head())      # Display the first 5 rows for demonstration\n",
        "print(\"\\ny_test:\")\n",
        "print(y_test.head())       # Display the first 5 rows for demonstration"
      ],
      "metadata": {
        "colab": {
          "base_uri": "https://localhost:8080/"
        },
        "id": "jW8VSDkAl0xH",
        "outputId": "be0874dd-a8bf-4b5e-aaa5-bff47e108871"
      },
      "execution_count": null,
      "outputs": [
        {
          "output_type": "stream",
          "name": "stdout",
          "text": [
            "\n",
            "Processed Data:\n",
            "X_train_scaled:\n",
            "[[ 1.27769034  1.59508739 -1.32424438]\n",
            " [-0.82262255  2.07123289  1.08347268]\n",
            " [ 0.2275339   0.16665092 -0.12038585]\n",
            " [ 1.27769034 -1.4998583   1.08347268]\n",
            " [ 1.27769034 -0.30949457 -0.12038585]]\n",
            "\n",
            "X_test_scaled:\n",
            "[[ 0.92763819 -1.4998583  -1.32424438]\n",
            " [-0.4725704   1.59508739 -0.12038585]\n",
            " [ 0.57758604 -0.78564006 -1.32424438]\n",
            " [-1.17267469 -0.30949457 -0.12038585]\n",
            " [-0.82262255  1.59508739  1.08347268]]\n",
            "\n",
            "y_train:\n",
            "22    770\n",
            "5     620\n",
            "33    700\n",
            "56    590\n",
            "66    700\n",
            "Name: CreditScore, dtype: int64\n",
            "\n",
            "y_test:\n",
            "4     780\n",
            "63    710\n",
            "10    770\n",
            "0     700\n",
            "35    620\n",
            "Name: CreditScore, dtype: int64\n"
          ]
        }
      ]
    },
    {
      "cell_type": "code",
      "source": [
        "print(features)"
      ],
      "metadata": {
        "colab": {
          "base_uri": "https://localhost:8080/"
        },
        "id": "Za9BZQcaYPPm",
        "outputId": "50ee2fcd-0858-4f4b-dd9f-b438b97fed6c"
      },
      "execution_count": null,
      "outputs": [
        {
          "output_type": "stream",
          "name": "stdout",
          "text": [
            "    Income   Debt  PaymentHistory\n",
            "0    50000  10000               1\n",
            "1    60000   8000               0\n",
            "2    75000  12000               2\n",
            "3    45000  15000               1\n",
            "4    80000   5000               0\n",
            "..     ...    ...             ...\n",
            "70   55000   8000               0\n",
            "71   65000  12000               2\n",
            "72   90000  10000               1\n",
            "73   60000  15000               0\n",
            "74   75000   7000               2\n",
            "\n",
            "[75 rows x 3 columns]\n"
          ]
        }
      ]
    },
    {
      "cell_type": "code",
      "source": [
        "from sklearn.linear_model import LinearRegression\n",
        "from sklearn.metrics import mean_squared_error, r2_score"
      ],
      "metadata": {
        "id": "dqvrYUSll28H"
      },
      "execution_count": null,
      "outputs": []
    },
    {
      "cell_type": "code",
      "source": [
        "# Step 3: Regression Model for Credit Score Prediction\n",
        "# Choose a regression algorithm (Linear Regression in this case)\n",
        "regression_model = LinearRegression()\n",
        "\n",
        "# Train the model\n",
        "regression_model.fit(X_train_scaled, y_train)\n"
      ],
      "metadata": {
        "colab": {
          "base_uri": "https://localhost:8080/",
          "height": 74
        },
        "id": "fCLIQ01OmYvE",
        "outputId": "50907e35-4ee1-40cd-b4ab-3350e9ef668f"
      },
      "execution_count": null,
      "outputs": [
        {
          "output_type": "execute_result",
          "data": {
            "text/plain": [
              "LinearRegression()"
            ],
            "text/html": [
              "<style>#sk-container-id-1 {color: black;background-color: white;}#sk-container-id-1 pre{padding: 0;}#sk-container-id-1 div.sk-toggleable {background-color: white;}#sk-container-id-1 label.sk-toggleable__label {cursor: pointer;display: block;width: 100%;margin-bottom: 0;padding: 0.3em;box-sizing: border-box;text-align: center;}#sk-container-id-1 label.sk-toggleable__label-arrow:before {content: \"▸\";float: left;margin-right: 0.25em;color: #696969;}#sk-container-id-1 label.sk-toggleable__label-arrow:hover:before {color: black;}#sk-container-id-1 div.sk-estimator:hover label.sk-toggleable__label-arrow:before {color: black;}#sk-container-id-1 div.sk-toggleable__content {max-height: 0;max-width: 0;overflow: hidden;text-align: left;background-color: #f0f8ff;}#sk-container-id-1 div.sk-toggleable__content pre {margin: 0.2em;color: black;border-radius: 0.25em;background-color: #f0f8ff;}#sk-container-id-1 input.sk-toggleable__control:checked~div.sk-toggleable__content {max-height: 200px;max-width: 100%;overflow: auto;}#sk-container-id-1 input.sk-toggleable__control:checked~label.sk-toggleable__label-arrow:before {content: \"▾\";}#sk-container-id-1 div.sk-estimator input.sk-toggleable__control:checked~label.sk-toggleable__label {background-color: #d4ebff;}#sk-container-id-1 div.sk-label input.sk-toggleable__control:checked~label.sk-toggleable__label {background-color: #d4ebff;}#sk-container-id-1 input.sk-hidden--visually {border: 0;clip: rect(1px 1px 1px 1px);clip: rect(1px, 1px, 1px, 1px);height: 1px;margin: -1px;overflow: hidden;padding: 0;position: absolute;width: 1px;}#sk-container-id-1 div.sk-estimator {font-family: monospace;background-color: #f0f8ff;border: 1px dotted black;border-radius: 0.25em;box-sizing: border-box;margin-bottom: 0.5em;}#sk-container-id-1 div.sk-estimator:hover {background-color: #d4ebff;}#sk-container-id-1 div.sk-parallel-item::after {content: \"\";width: 100%;border-bottom: 1px solid gray;flex-grow: 1;}#sk-container-id-1 div.sk-label:hover label.sk-toggleable__label {background-color: #d4ebff;}#sk-container-id-1 div.sk-serial::before {content: \"\";position: absolute;border-left: 1px solid gray;box-sizing: border-box;top: 0;bottom: 0;left: 50%;z-index: 0;}#sk-container-id-1 div.sk-serial {display: flex;flex-direction: column;align-items: center;background-color: white;padding-right: 0.2em;padding-left: 0.2em;position: relative;}#sk-container-id-1 div.sk-item {position: relative;z-index: 1;}#sk-container-id-1 div.sk-parallel {display: flex;align-items: stretch;justify-content: center;background-color: white;position: relative;}#sk-container-id-1 div.sk-item::before, #sk-container-id-1 div.sk-parallel-item::before {content: \"\";position: absolute;border-left: 1px solid gray;box-sizing: border-box;top: 0;bottom: 0;left: 50%;z-index: -1;}#sk-container-id-1 div.sk-parallel-item {display: flex;flex-direction: column;z-index: 1;position: relative;background-color: white;}#sk-container-id-1 div.sk-parallel-item:first-child::after {align-self: flex-end;width: 50%;}#sk-container-id-1 div.sk-parallel-item:last-child::after {align-self: flex-start;width: 50%;}#sk-container-id-1 div.sk-parallel-item:only-child::after {width: 0;}#sk-container-id-1 div.sk-dashed-wrapped {border: 1px dashed gray;margin: 0 0.4em 0.5em 0.4em;box-sizing: border-box;padding-bottom: 0.4em;background-color: white;}#sk-container-id-1 div.sk-label label {font-family: monospace;font-weight: bold;display: inline-block;line-height: 1.2em;}#sk-container-id-1 div.sk-label-container {text-align: center;}#sk-container-id-1 div.sk-container {/* jupyter's `normalize.less` sets `[hidden] { display: none; }` but bootstrap.min.css set `[hidden] { display: none !important; }` so we also need the `!important` here to be able to override the default hidden behavior on the sphinx rendered scikit-learn.org. See: https://github.com/scikit-learn/scikit-learn/issues/21755 */display: inline-block !important;position: relative;}#sk-container-id-1 div.sk-text-repr-fallback {display: none;}</style><div id=\"sk-container-id-1\" class=\"sk-top-container\"><div class=\"sk-text-repr-fallback\"><pre>LinearRegression()</pre><b>In a Jupyter environment, please rerun this cell to show the HTML representation or trust the notebook. <br />On GitHub, the HTML representation is unable to render, please try loading this page with nbviewer.org.</b></div><div class=\"sk-container\" hidden><div class=\"sk-item\"><div class=\"sk-estimator sk-toggleable\"><input class=\"sk-toggleable__control sk-hidden--visually\" id=\"sk-estimator-id-1\" type=\"checkbox\" checked><label for=\"sk-estimator-id-1\" class=\"sk-toggleable__label sk-toggleable__label-arrow\">LinearRegression</label><div class=\"sk-toggleable__content\"><pre>LinearRegression()</pre></div></div></div></div></div>"
            ]
          },
          "metadata": {},
          "execution_count": 12
        }
      ]
    },
    {
      "cell_type": "code",
      "source": [
        "# Make predictions on the training set\n",
        "train_predictions = regression_model.predict(X_train_scaled)\n",
        "\n",
        "# Make predictions on the testing set\n",
        "test_predictions = regression_model.predict(X_test_scaled)"
      ],
      "metadata": {
        "id": "psarDxPAmbUn"
      },
      "execution_count": null,
      "outputs": []
    },
    {
      "cell_type": "code",
      "source": [
        "# Evaluate the model\n",
        "train_rmse = mean_squared_error(y_train, train_predictions, squared=False)\n",
        "test_rmse = mean_squared_error(y_test, test_predictions, squared=False)\n",
        "r2_train = r2_score(y_train, train_predictions)\n",
        "r2_test = r2_score(y_test, test_predictions)"
      ],
      "metadata": {
        "id": "_4F1ihDsmeVJ"
      },
      "execution_count": null,
      "outputs": []
    },
    {
      "cell_type": "code",
      "source": [
        "# Display the regression model's performance metrics\n",
        "print(f\"\\nRegression Model Performance Metrics:\")\n",
        "print(f\"Training RMSE: {train_rmse}\")\n",
        "print(f\"Testing RMSE: {test_rmse}\")\n",
        "print(f\"Training R^2 Score: {r2_train}\")\n",
        "print(f\"Testing R^2 Score: {r2_test}\")"
      ],
      "metadata": {
        "colab": {
          "base_uri": "https://localhost:8080/"
        },
        "id": "LMyiodWNmg_9",
        "outputId": "aba92d17-53e1-40d5-dde2-9b4113ab2b46"
      },
      "execution_count": null,
      "outputs": [
        {
          "output_type": "stream",
          "name": "stdout",
          "text": [
            "\n",
            "Regression Model Performance Metrics:\n",
            "Training RMSE: 15.50703113878163\n",
            "Testing RMSE: 15.353762624830756\n",
            "Training R^2 Score: 0.9511185916882131\n",
            "Testing R^2 Score: 0.8761880111661503\n"
          ]
        }
      ]
    },
    {
      "cell_type": "code",
      "source": [
        "# Load the new dataset for prediction\n",
        "new_data_path = \"/content/predictedcreditscore.csv\"  # Replace with the actual path\n",
        "new_data = pd.read_csv(new_data_path)\n",
        "\n",
        "# Display the new dataset\n",
        "print(\"New Dataset for Prediction:\")\n",
        "print(new_data)\n",
        "\n",
        "# Preprocess the new dataset\n",
        "new_data['PaymentHistory'] = label_encoder.transform(new_data['PaymentHistory'])\n",
        "new_data_scaled = scaler.transform(new_data.drop(columns=['CustomerID']))\n",
        "\n",
        "# Predict credit scores using the trained regression model\n",
        "predicted_scores = regression_model.predict(new_data_scaled)\n",
        "\n",
        "# Add the predicted credit scores to the new dataset\n",
        "new_data['PredictedCreditScore'] = predicted_scores\n",
        "\n",
        "# Display the new dataset with predicted credit scores\n",
        "print(\"\\nNew Dataset with Predicted Credit Scores:\")\n",
        "print(new_data[['CustomerID', 'PredictedCreditScore']])\n"
      ],
      "metadata": {
        "colab": {
          "base_uri": "https://localhost:8080/"
        },
        "id": "PyekjBn3qZKI",
        "outputId": "94320982-030d-4bac-f227-d95d2a3daea9"
      },
      "execution_count": null,
      "outputs": [
        {
          "output_type": "stream",
          "name": "stdout",
          "text": [
            "New Dataset for Prediction:\n",
            "    CustomerID  Income   Debt PaymentHistory\n",
            "0          107   55000  10000      Excellent\n",
            "1           96   65000  12000           Poor\n",
            "2          142   90000   8000           Good\n",
            "3          122   60000  15000      Excellent\n",
            "4          131   75000   7000           Poor\n",
            "..         ...     ...    ...            ...\n",
            "70          82   50000   5000           Good\n",
            "71         100   85000  15000      Excellent\n",
            "72         109   45000  12000           Poor\n",
            "73          79   70000   8000           Good\n",
            "74         135   80000  10000      Excellent\n",
            "\n",
            "[75 rows x 4 columns]\n",
            "\n",
            "New Dataset with Predicted Credit Scores:\n",
            "    CustomerID  PredictedCreditScore\n",
            "0          107            777.199514\n",
            "1           96            612.001042\n",
            "2          142            695.835564\n",
            "3          122            776.754025\n",
            "4          131            612.886528\n",
            "..         ...                   ...\n",
            "70          82            695.017533\n",
            "71         100            777.487352\n",
            "72         109            611.414380\n",
            "73          79            695.248902\n",
            "74         135            777.932841\n",
            "\n",
            "[75 rows x 2 columns]\n"
          ]
        }
      ]
    },
    {
      "cell_type": "code",
      "source": [
        "from sklearn.cluster import KMeans\n",
        "from sklearn.metrics import silhouette_score\n",
        "import matplotlib.pyplot as plt\n"
      ],
      "metadata": {
        "id": "az84QRhTmjUq"
      },
      "execution_count": null,
      "outputs": []
    },
    {
      "cell_type": "code",
      "source": [
        "# Extract predicted credit scores for clustering\n",
        "credit_scores_for_clustering = new_data['PredictedCreditScore'].values.reshape(-1, 1)\n"
      ],
      "metadata": {
        "id": "MeAYeh4nm56V"
      },
      "execution_count": null,
      "outputs": []
    },
    {
      "cell_type": "code",
      "source": [
        "# Determine the optimal number of clusters using the elbow method\n",
        "inertia = []\n",
        "silhouette_scores = []\n",
        "max_clusters = 10  # You can adjust this based on your preference\n",
        "\n",
        "for n_clusters in range(2, max_clusters + 1):\n",
        "    kmeans = KMeans(n_clusters=n_clusters, random_state=42)\n",
        "    kmeans.fit(credit_scores_for_clustering)\n",
        "    inertia.append(kmeans.inertia_)\n",
        "    silhouette_scores.append(silhouette_score(credit_scores_for_clustering, kmeans.labels_))\n",
        "\n",
        "# Plot the elbow method\n",
        "plt.figure(figsize=(10, 5))\n",
        "plt.subplot(1, 2, 1)\n",
        "plt.plot(range(2, max_clusters + 1), inertia, marker='o')\n",
        "plt.title('Elbow Method for Optimal K')\n",
        "plt.xlabel('Number of Clusters (K)')\n",
        "plt.ylabel('Inertia')"
      ],
      "metadata": {
        "colab": {
          "base_uri": "https://localhost:8080/",
          "height": 837
        },
        "id": "e32kpD5qm8Ry",
        "outputId": "56279705-392f-4443-fef0-c0aed1dc86ae"
      },
      "execution_count": null,
      "outputs": [
        {
          "output_type": "stream",
          "name": "stderr",
          "text": [
            "/usr/local/lib/python3.10/dist-packages/sklearn/cluster/_kmeans.py:870: FutureWarning: The default value of `n_init` will change from 10 to 'auto' in 1.4. Set the value of `n_init` explicitly to suppress the warning\n",
            "  warnings.warn(\n",
            "/usr/local/lib/python3.10/dist-packages/sklearn/cluster/_kmeans.py:870: FutureWarning: The default value of `n_init` will change from 10 to 'auto' in 1.4. Set the value of `n_init` explicitly to suppress the warning\n",
            "  warnings.warn(\n",
            "/usr/local/lib/python3.10/dist-packages/sklearn/cluster/_kmeans.py:870: FutureWarning: The default value of `n_init` will change from 10 to 'auto' in 1.4. Set the value of `n_init` explicitly to suppress the warning\n",
            "  warnings.warn(\n",
            "/usr/local/lib/python3.10/dist-packages/sklearn/cluster/_kmeans.py:870: FutureWarning: The default value of `n_init` will change from 10 to 'auto' in 1.4. Set the value of `n_init` explicitly to suppress the warning\n",
            "  warnings.warn(\n",
            "/usr/local/lib/python3.10/dist-packages/sklearn/cluster/_kmeans.py:870: FutureWarning: The default value of `n_init` will change from 10 to 'auto' in 1.4. Set the value of `n_init` explicitly to suppress the warning\n",
            "  warnings.warn(\n",
            "/usr/local/lib/python3.10/dist-packages/sklearn/cluster/_kmeans.py:870: FutureWarning: The default value of `n_init` will change from 10 to 'auto' in 1.4. Set the value of `n_init` explicitly to suppress the warning\n",
            "  warnings.warn(\n",
            "/usr/local/lib/python3.10/dist-packages/sklearn/cluster/_kmeans.py:870: FutureWarning: The default value of `n_init` will change from 10 to 'auto' in 1.4. Set the value of `n_init` explicitly to suppress the warning\n",
            "  warnings.warn(\n",
            "/usr/local/lib/python3.10/dist-packages/sklearn/cluster/_kmeans.py:870: FutureWarning: The default value of `n_init` will change from 10 to 'auto' in 1.4. Set the value of `n_init` explicitly to suppress the warning\n",
            "  warnings.warn(\n",
            "/usr/local/lib/python3.10/dist-packages/sklearn/cluster/_kmeans.py:870: FutureWarning: The default value of `n_init` will change from 10 to 'auto' in 1.4. Set the value of `n_init` explicitly to suppress the warning\n",
            "  warnings.warn(\n"
          ]
        },
        {
          "output_type": "execute_result",
          "data": {
            "text/plain": [
              "Text(0, 0.5, 'Inertia')"
            ]
          },
          "metadata": {},
          "execution_count": 19
        },
        {
          "output_type": "display_data",
          "data": {
            "text/plain": [
              "<Figure size 1000x500 with 1 Axes>"
            ],
            "image/png": "[encoded data removed]"
          },
          "metadata": {}
        }
      ]
    },
    {
      "cell_type": "code",
      "source": [
        "# Plot silhouette scores\n",
        "plt.subplot(1, 2, 2)\n",
        "plt.plot(range(2, max_clusters + 1), silhouette_scores, marker='o')\n",
        "plt.title('Silhouette Score for Optimal K')\n",
        "plt.xlabel('Number of Clusters (K)')\n",
        "plt.ylabel('Silhouette Score')\n",
        "\n",
        "plt.tight_layout()\n",
        "plt.show()"
      ],
      "metadata": {
        "colab": {
          "base_uri": "https://localhost:8080/",
          "height": 487
        },
        "id": "Rl8aQfKJnAIf",
        "outputId": "e642e424-eb4a-4c10-9ae7-cfa4148ec229"
      },
      "execution_count": null,
      "outputs": [
        {
          "output_type": "display_data",
          "data": {
            "text/plain": [
              "<Figure size 640x480 with 1 Axes>"
            ],
            "image/png": "[encoded data removed]"
          },
          "metadata": {}
        }
      ]
    },
    {
      "cell_type": "code",
      "source": [
        "# Apply K-Means clustering with the optimal number of clusters (3)\n",
        "optimal_clusters = 3\n",
        "kmeans = KMeans(n_clusters=optimal_clusters, random_state=42)\n",
        "new_data['Cluster'] = kmeans.fit_predict(credit_scores_for_clustering)\n",
        "\n",
        "# Visualize the clusters\n",
        "plt.figure(figsize=(8, 6))\n",
        "plt.scatter(new_data['CustomerID'], new_data['PredictedCreditScore'], c=new_data['Cluster'], cmap='viridis', s=50)\n",
        "plt.title('K-Means Clustering of Predicted Credit Scores')\n",
        "plt.xlabel('Customer ID')\n",
        "plt.ylabel('Predicted Credit Score')\n",
        "plt.show()\n",
        "\n",
        "# Display the dataset with cluster assignments\n",
        "print(\"Dataset with Cluster Assignments:\")\n",
        "print(new_data[['CustomerID', 'PredictedCreditScore', 'Cluster']])\n"
      ],
      "metadata": {
        "colab": {
          "base_uri": "https://localhost:8080/",
          "height": 879
        },
        "id": "-utS5tZnnIp8",
        "outputId": "28b2dfbd-a93f-4e55-cfb8-9c2d06983aef"
      },
      "execution_count": null,
      "outputs": [
        {
          "output_type": "stream",
          "name": "stderr",
          "text": [
            "/usr/local/lib/python3.10/dist-packages/sklearn/cluster/_kmeans.py:870: FutureWarning: The default value of `n_init` will change from 10 to 'auto' in 1.4. Set the value of `n_init` explicitly to suppress the warning\n",
            "  warnings.warn(\n"
          ]
        },
        {
          "output_type": "display_data",
          "data": {
            "text/plain": [
              "<Figure size 800x600 with 1 Axes>"
            ],
            "image/png": "[encoded data removed]"
          },
          "metadata": {}
        },
        {
          "output_type": "stream",
          "name": "stdout",
          "text": [
            "Dataset with Cluster Assignments:\n",
            "    CustomerID  PredictedCreditScore  Cluster\n",
            "0          107            777.199514        1\n",
            "1           96            612.001042        0\n",
            "2          142            695.835564        2\n",
            "3          122            776.754025        1\n",
            "4          131            612.886528        0\n",
            "..         ...                   ...      ...\n",
            "70          82            695.017533        2\n",
            "71         100            777.487352        1\n",
            "72         109            611.414380        0\n",
            "73          79            695.248902        2\n",
            "74         135            777.932841        1\n",
            "\n",
            "[75 rows x 3 columns]\n"
          ]
        }
      ]
    },
    {
      "cell_type": "code",
      "source": [
        "print(new_data)"
      ],
      "metadata": {
        "colab": {
          "base_uri": "https://localhost:8080/"
        },
        "id": "7qZZBZ1m4tdv",
        "outputId": "1aa1c2d7-d151-40c0-9092-134392b2d469"
      },
      "execution_count": null,
      "outputs": [
        {
          "output_type": "stream",
          "name": "stdout",
          "text": [
            "    CustomerID  Income   Debt  PaymentHistory  PredictedCreditScore  Cluster\n",
            "0          107   55000  10000               0            777.199514        1\n",
            "1           96   65000  12000               2            612.001042        0\n",
            "2          142   90000   8000               1            695.835564        2\n",
            "3          122   60000  15000               0            776.754025        1\n",
            "4          131   75000   7000               2            612.886528        0\n",
            "..         ...     ...    ...             ...                   ...      ...\n",
            "70          82   50000   5000               1            695.017533        2\n",
            "71         100   85000  15000               0            777.487352        1\n",
            "72         109   45000  12000               2            611.414380        0\n",
            "73          79   70000   8000               1            695.248902        2\n",
            "74         135   80000  10000               0            777.932841        1\n",
            "\n",
            "[75 rows x 6 columns]\n"
          ]
        }
      ]
    },
    {
      "cell_type": "code",
      "source": [
        "import pandas as pd\n",
        "import numpy as np\n",
        "from sklearn.cluster import KMeans\n",
        "import matplotlib.pyplot as plt\n",
        "\n",
        "\n",
        "\n",
        "# Load the historical customer preferences data\n",
        "historical_data_path = \"/content/rating.csv\"  # Replace with the actual path\n",
        "historical_data = pd.read_csv(historical_data_path)\n",
        "\n",
        "# Merge historical data with cluster assignments\n",
        "clustered_data = pd.merge(new_data[['CustomerID', 'Cluster']], historical_data, on='CustomerID')\n",
        "\n",
        "# Recommendation function based on cluster and historical data\n",
        "def recommend_items(cluster, num_items=3):\n",
        "    cluster_data = clustered_data[clustered_data['Cluster'] == cluster]\n",
        "    top_items = cluster_data.groupby('ItemID')['Rating'].mean().sort_values(ascending=False).index[:num_items]\n",
        "    return top_items\n",
        "\n",
        "\n"
      ],
      "metadata": {
        "id": "xrdlDo9hnQYH"
      },
      "execution_count": null,
      "outputs": []
    },
    {
      "cell_type": "code",
      "source": [
        "# Recommendation function based on cluster and historical data\n",
        "def recommend_items(cluster, num_items=3):\n",
        "    cluster_data = clustered_data[clustered_data['Cluster'] == cluster]\n",
        "    top_items = cluster_data.groupby('ItemID')['Rating'].mean().sort_values(ascending=False).index[:num_items]\n",
        "    return top_items\n",
        "\n",
        "# Example: Get recommendations for customers in Cluster 0\n",
        "cluster_0_recommendations = recommend_items(0)\n",
        "print(\"\\nRecommendations for Cluster 0:\")\n",
        "print(cluster_0_recommendations)\n",
        "\n",
        "# Example: Get recommendations for customers in Cluster 1\n",
        "cluster_1_recommendations = recommend_items(1)\n",
        "print(\"\\nRecommendations for Cluster 1:\")\n",
        "print(cluster_1_recommendations)\n",
        "\n",
        "# Example: Get recommendations for customers in Cluster 2\n",
        "cluster_2_recommendations = recommend_items(2)\n",
        "print(\"\\nRecommendations for Cluster 2:\")\n",
        "print(cluster_2_recommendations)"
      ],
      "metadata": {
        "id": "clbbLbIs5P8y",
        "colab": {
          "base_uri": "https://localhost:8080/"
        },
        "outputId": "09456a89-8ff3-467b-88f1-4ad39e40d946"
      },
      "execution_count": null,
      "outputs": [
        {
          "output_type": "stream",
          "name": "stdout",
          "text": [
            "\n",
            "Recommendations for Cluster 0:\n",
            "Index(['Product_C', 'Product_A', 'Product_B'], dtype='object', name='ItemID')\n",
            "\n",
            "Recommendations for Cluster 1:\n",
            "Index(['Product_B', 'Product_A', 'Product_C'], dtype='object', name='ItemID')\n",
            "\n",
            "Recommendations for Cluster 2:\n",
            "Index(['Product_C', 'Product_A', 'Product_B'], dtype='object', name='ItemID')\n"
          ]
        }
      ]
    },
    {
      "cell_type": "code",
      "source": [
        "print(clustered_data)"
      ],
      "metadata": {
        "colab": {
          "base_uri": "https://localhost:8080/"
        },
        "id": "2Z76DMUV_Sp6",
        "outputId": "b270756c-7f07-4279-8210-2ad496126759"
      },
      "execution_count": null,
      "outputs": [
        {
          "output_type": "stream",
          "name": "stdout",
          "text": [
            "    CustomerID  Cluster     ItemID  Rating\n",
            "0          107        1  Product_B       4\n",
            "1           96        0  Product_B       1\n",
            "2          142        2  Product_A       2\n",
            "3          122        1  Product_C       5\n",
            "4          131        0  Product_C       4\n",
            "..         ...      ...        ...     ...\n",
            "70          82        2  Product_A       4\n",
            "71         100        1  Product_C       3\n",
            "72         109        0  Product_C       4\n",
            "73          79        2  Product_A       5\n",
            "74         135        1  Product_B       2\n",
            "\n",
            "[75 rows x 4 columns]\n"
          ]
        }
      ]
    },
    {
      "cell_type": "code",
      "source": [
        "# input information for a new customer\n",
        "new_customer_info = pd.DataFrame({\n",
        "    'CustomerID': [699],\n",
        "    'Income': [60000],\n",
        "    'Debt': [10000],\n",
        "    'PaymentHistory': ['Excellent'],\n",
        "})\n",
        "\n",
        "# Preprocess the new customer information\n",
        "new_customer_info['PaymentHistory'] = label_encoder.transform(new_customer_info['PaymentHistory'])\n",
        "new_customer_scaled = scaler.transform(new_customer_info.drop(columns=['CustomerID']))\n",
        "\n",
        "# Predict the credit score for the new customer using the trained regression model\n",
        "new_customer_predicted_score = regression_model.predict(new_customer_scaled)\n",
        "\n",
        "# Add the predicted credit score to the new customer information\n",
        "new_customer_info['PredictedCreditScore'] = new_customer_predicted_score\n",
        "\n",
        "# Display the new customer information with predicted credit score\n",
        "print(\"\\nNew Customer Information with Predicted Credit Score:\")\n",
        "print(new_customer_info)\n",
        "\n",
        "# Extract the predicted credit score for clustering\n",
        "new_customer_credit_score_for_clustering = new_customer_info['PredictedCreditScore'].values.reshape(-1, 1)\n",
        "\n",
        "# Assign the new customer to a cluster using the trained K-Means model\n",
        "new_customer_cluster = kmeans.predict(new_customer_credit_score_for_clustering)[0]\n",
        "\n",
        "# Display the assigned cluster for the new customer\n",
        "print(\"\\nAssigned Cluster for the New Customer:\")\n",
        "print(new_customer_cluster)\n",
        "\n",
        "# Get personalized recommendations for the new customer's cluster\n",
        "new_customer_recommendations = recommend_items(new_customer_cluster)\n",
        "print(\"\\nPersonalized Recommendations for the New Customer:\")\n",
        "print(new_customer_recommendations)\n"
      ],
      "metadata": {
        "id": "36in3ZrR9IXC",
        "colab": {
          "base_uri": "https://localhost:8080/"
        },
        "outputId": "499e67b4-23f8-448a-879b-83a8253dc47f"
      },
      "execution_count": null,
      "outputs": [
        {
          "output_type": "stream",
          "name": "stdout",
          "text": [
            "\n",
            "New Customer Information with Predicted Credit Score:\n",
            "   CustomerID  Income   Debt  PaymentHistory  PredictedCreditScore\n",
            "0         699   60000  10000               0             777.34618\n",
            "\n",
            "Assigned Cluster for the New Customer:\n",
            "1\n",
            "\n",
            "Personalized Recommendations for the New Customer:\n",
            "Index(['Product_B', 'Product_A', 'Product_C'], dtype='object', name='ItemID')\n"
          ]
        }
      ]
    },
    {
      "cell_type": "code",
      "source": [],
      "metadata": {
        "id": "c8CLKsblO6CY"
      },
      "execution_count": null,
      "outputs": []
    }
  ]
}